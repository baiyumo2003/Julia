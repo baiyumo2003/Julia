{
 "cells": [
  {
   "cell_type": "code",
   "execution_count": null,
   "metadata": {},
   "outputs": [],
   "source": [
    "#Import JuMP package to build an optimization model\n",
    "using JuMP\n",
    "#Import HiGHS solver\n",
    "using HiGHS\n",
    "\n",
    "#Create a JuMP model named picframe1 that will be solved using the HiGHS solver\n",
    "picframe1 = Model(HiGHS.Optimizer);\n",
    "\n",
    "#Add the variables\n",
    "@variable(picframe1,carrots >= 0);\n",
    "@variable(picframe1, potatoes >= 0);\n",
    "@variable(picframe1,bread >= 0);\n",
    "@variable(picframe1, cheese >= 0);\n",
    "@variable(picframe1,peanut_butter >= 0);\n",
    "\n",
    "@objective(picframe1,Min,0.14carrots+0.12potatoes+0.2bread+0.75cheese+0.15peanut_butter);\n",
    "@constraint(picframe1, constraint1, 23carrots+171potatoes+65bread+112cheese+188peanut_butter>=2000);\n",
    "@constraint(picframe1, constraint2, 0.1carrots+0.2potatoes+9.3cheese+16peanut_butter>=50);\n",
    "@constraint(picframe1, constraint3, 0.6carrots+3.7potatoes+2.2bread+7cheese+7.7peanut_butter>=100);\n",
    "@constraint(picframe1, constraint4, 6carrots+30potatoes+13bread+2peanut_butter>=250);\n",
    "\n",
    "print(picframe1);"
   ]
  },
  {
   "cell_type": "code",
   "execution_count": null,
   "metadata": {},
   "outputs": [],
   "source": [
    "#Solve the model\n",
    "optimize!(picframe1);\n",
    "#Outputs detailed information about the solution process\n",
    "#@show solution_summary(picframe1);\n",
    "@show objective_value(picframe1);\n",
    "@show value(carrots);\n",
    "@show value(potatoes);\n",
    "@show value(bread);\n",
    "@show value(cheese);\n",
    "@show value(peanut_butter);"
   ]
  }
 ],
 "metadata": {
  "kernelspec": {
   "display_name": "Julia 1.8.2",
   "language": "julia",
   "name": "julia-1.8"
  },
  "language_info": {
   "file_extension": ".jl",
   "mimetype": "application/julia",
   "name": "julia",
   "version": "1.8.2"
  },
  "orig_nbformat": 4
 },
 "nbformat": 4,
 "nbformat_minor": 2
}
