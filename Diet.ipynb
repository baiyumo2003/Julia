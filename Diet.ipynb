{
 "cells": [
  {
   "cell_type": "code",
   "execution_count": 9,
   "metadata": {},
   "outputs": [
    {
     "name": "stdout",
     "output_type": "stream",
     "text": [
      "Min 0.14 carrots + 0.12 potatoes + 0.2 bread + 0.75 cheese + 0.15 peanut_butter\n",
      "Subject to\n",
      " constraint1 : 23 carrots + 171 potatoes + 65 bread + 112 cheese + 188 peanut_butter ≥ 2000.0\n",
      " constraint2 : 0.1 carrots + 0.2 potatoes + 9.3 cheese + 16 peanut_butter ≥ 50.0\n",
      " constraint3 : 0.6 carrots + 3.7 potatoes + 2.2 bread + 7 cheese + 7.7 peanut_butter ≥ 100.0\n",
      " constraint4 : 6 carrots + 30 potatoes + 13 bread + 2 peanut_butter ≥ 250.0\n",
      " carrots ≥ 0.0\n",
      " potatoes ≥ 0.0\n",
      " bread ≥ 0.0\n",
      " cheese ≥ 0.0\n",
      " peanut_butter ≥ 0.0\n"
     ]
    }
   ],
   "source": [
    "#Import JuMP package to build an optimization model\n",
    "using JuMP\n",
    "#Import HiGHS solver\n",
    "using HiGHS\n",
    "\n",
    "#Create a JuMP model named picframe1 that will be solved using the HiGHS solver\n",
    "picframe1 = Model(HiGHS.Optimizer);\n",
    "\n",
    "#Add the variables\n",
    "@variable(picframe1,carrots >= 0);\n",
    "@variable(picframe1, potatoes >= 0);\n",
    "@variable(picframe1,bread >= 0);\n",
    "@variable(picframe1, cheese >= 0);\n",
    "@variable(picframe1,peanut_butter >= 0);\n",
    "\n",
    "#Add objective and constraint\n",
    "@objective(picframe1,Min,0.14carrots+0.12potatoes+0.2bread+0.75cheese+0.15peanut_butter);\n",
    "@constraint(picframe1, constraint1, 23carrots+171potatoes+65bread+112cheese+188peanut_butter>=2000);\n",
    "@constraint(picframe1, constraint2, 0.1carrots+0.2potatoes+9.3cheese+16peanut_butter>=50);\n",
    "@constraint(picframe1, constraint3, 0.6carrots+3.7potatoes+2.2bread+7cheese+7.7peanut_butter>=100);\n",
    "@constraint(picframe1, constraint4, 6carrots+30potatoes+13bread+2peanut_butter>=250);\n",
    "\n",
    "print(picframe1);"
   ]
  },
  {
   "cell_type": "code",
   "execution_count": 10,
   "metadata": {},
   "outputs": [
    {
     "name": "stdout",
     "output_type": "stream",
     "text": [
      "Presolving model\n",
      "4 rows, 4 cols, 15 nonzeros\n",
      "4 rows, 2 cols, 8 nonzeros\n",
      "Presolve : Reductions: rows 4(-0); columns 2(-3); elements 8(-10)\n",
      "Solving the presolved LP\n",
      "Using EKK dual simplex solver - serial\n",
      "  Iteration        Objective     Infeasibilities num(sum)\n",
      "          0     0.0000000000e+00 Pr: 4(975) 0s\n",
      "          3     2.3177549195e+00 Pr: 0(0) 0s\n",
      "Solving the original LP from the solution after postsolve\n",
      "Model   status      : Optimal\n",
      "Simplex   iterations: 3\n",
      "Objective value     :  2.3177549195e+00\n",
      "HiGHS run time      :          0.00\n",
      "value(carrots) = 0.0\n",
      "value(potatoes) = 7.714669051878355\n",
      "value(bread) = 0.0\n",
      "value(cheese) = 0.0\n",
      "value(peanut_butter) = 9.279964221824686\n"
     ]
    }
   ],
   "source": [
    "#Solve the model\n",
    "optimize!(picframe1);\n",
    "#Outputs detailed information about the solution process\n",
    "#@show objective_value(picframe1);\n",
    "@show value(carrots);\n",
    "@show value(potatoes);\n",
    "@show value(bread);\n",
    "@show value(cheese);\n",
    "@show value(peanut_butter);"
   ]
  }
 ],
 "metadata": {
  "kernelspec": {
   "display_name": "Julia 1.8.2",
   "language": "julia",
   "name": "julia-1.8"
  },
  "language_info": {
   "file_extension": ".jl",
   "mimetype": "application/julia",
   "name": "julia",
   "version": "1.8.2"
  },
  "orig_nbformat": 4
 },
 "nbformat": 4,
 "nbformat_minor": 2
}
