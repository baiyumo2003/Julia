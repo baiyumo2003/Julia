{
 "cells": [
  {
   "cell_type": "markdown",
   "metadata": {},
   "source": [
    "# Chebyshev center\n",
    "\n",
    "Find the center and radius of the smallest sphere that encloses the polyhedron defined by the inequalities\n",
    "$$ \\left\\{ 2 x - y + 2 z \\le 2,\\quad\n",
    "-x + 2 y + 4 z \\le 16,\\quad\n",
    "x + 2 y - 2 z \\le 8,\\quad\n",
    "x \\ge 0,\\,\n",
    "y \\ge 0,\\,\n",
    "z \\ge 0 \\right\\}$$"
   ]
  },
  {
   "cell_type": "code",
   "execution_count": 4,
   "metadata": {},
   "outputs": [
    {
     "name": "stdout",
     "output_type": "stream",
     "text": [
      "3.0\n",
      "Max r\n",
      "Subject to\n",
      " inequality[1] : 3 r + 2 x[1] - x[2] + 2 x[3] ≤ 2.0\n",
      " inequality[2] : 4.58257569495584 r - x[1] + 2 x[2] + 4 x[3] ≤ 16.0\n",
      " inequality[3] : 3 r + x[1] + 2 x[2] - 2 x[3] ≤ 8.0\n",
      " inequality[4] : r - x[1] ≤ 0.0\n",
      " inequality[5] : r - x[2] ≤ 0.0\n",
      " inequality[6] : r - x[3] ≤ 0.0\n",
      " r ≥ 0.0\n",
      "Presolving model\n",
      "6 rows, 4 cols, 18 nonzeros\n",
      "6 rows, 4 cols, 18 nonzeros\n",
      "Presolve : Reductions: rows 6(-0); columns 4(-0); elements 18(-0)\n",
      "Solving the presolved LP\n",
      "Using EKK dual simplex solver - serial\n",
      "  Iteration        Objective     Infeasibilities num(sum)\n",
      "          0    -9.9999824871e-01 Ph1: 6(11989.4); Du: 1(0.999998) 0s\n",
      "          6    -7.5000000000e-01 Pr: 0(0) 0s\n",
      "Solving the original LP from the solution after postsolve\n",
      "Model   status      : Optimal\n",
      "Simplex   iterations: 6\n",
      "Objective value     :  7.5000000000e-01\n",
      "HiGHS run time      :          0.00\n",
      "The coordinates of the Chebyshev center are: 1-dimensional DenseAxisArray{Float64,1,...} with index sets:\n",
      "    Dimension 1, 1:3\n",
      "And data, a 3-element Vector{Float64}:\n",
      " 0.75\n",
      " 3.25\n",
      " 0.75\n",
      "The largest possible radius is: 0.75\n"
     ]
    }
   ],
   "source": [
    "A = [2 -1 2; -1 2 4; 1 2 -2; -1 0 0; 0 -1 0; 0 0 -1];\n",
    "b = [2; 16; 8; 0; 0; 0]\n",
    "\n",
    "numinequalities = 1:length(b);\n",
    "sizex = 1:3;\n",
    "\n",
    "#If you have not used LinearAlgebra before, make sure to install it with\n",
    "#using Pkg\n",
    "#Pkg.add(\"LinearAlgebra\")\n",
    "using JuMP, HiGHS, LinearAlgebra\n",
    "\n",
    "println(norm(A[1,:]))\n",
    "\n",
    "nA = norm(A[1,:])\n",
    "\n",
    "m = Model(HiGHS.Optimizer)\n",
    "@variable(m, r >= 0)           # radius\n",
    "@variable(m, x[sizex])           # coordinates of center\n",
    "@constraint(m, inequality[i in numinequalities], sum(A[i,j]*x[j] for j in sizex) + r*norm(A[i,:]) <= b[i])\n",
    "@objective(m, Max, r)     # maximize radius\n",
    "print(m)\n",
    "status = optimize!(m)\n",
    "center = value.(x)\n",
    "radius = value(r)\n",
    "\n",
    "println(\"The coordinates of the Chebyshev center are: \", center)\n",
    "println(\"The largest possible radius is: \", radius)"
   ]
  },
  {
   "cell_type": "code",
   "execution_count": null,
   "metadata": {},
   "outputs": [],
   "source": []
  }
 ],
 "metadata": {
  "kernelspec": {
   "display_name": "Julia 1.8.2",
   "language": "julia",
   "name": "julia-1.8"
  },
  "language_info": {
   "file_extension": ".jl",
   "mimetype": "application/julia",
   "name": "julia",
   "version": "1.8.2"
  }
 },
 "nbformat": 4,
 "nbformat_minor": 1
}
