{
 "cells": [
  {
   "cell_type": "code",
   "execution_count": 41,
   "metadata": {},
   "outputs": [
    {
     "name": "stdout",
     "output_type": "stream",
     "text": [
      "Max 3.25 x[Columbian,Robust] + 2.95 x[Columbian,Light] + 3.4 x[Brazilian,Robust] + 3.1 x[Brazilian,Light] + 2.7 x[Sumatran,Robust] + 2.4000000000000004 x[Sumatran,Light]\n",
      "Subject to\n",
      " RSInf : -0.6 x[Columbian,Robust] - 0.6 x[Brazilian,Robust] + 0.4 x[Sumatran,Robust] ≥ 0.0\n",
      " RCInf : 0.9 x[Columbian,Robust] - 0.1 x[Brazilian,Robust] - 0.1 x[Sumatran,Robust] ≥ 0.0\n",
      " LBInf : -0.5 x[Columbian,Light] + 0.5 x[Brazilian,Light] - 0.5 x[Sumatran,Light] ≥ 0.0\n",
      " RSSup : -0.75 x[Columbian,Robust] - 0.75 x[Brazilian,Robust] + 0.25 x[Sumatran,Robust] ≤ 0.0\n",
      " LBSup : -0.6 x[Columbian,Light] + 0.4 x[Brazilian,Light] - 0.6 x[Sumatran,Light] ≤ 0.0\n",
      " LSSup : -0.6 x[Columbian,Light] - 0.6 x[Brazilian,Light] + 0.4 x[Sumatran,Light] ≤ 0.0\n",
      " beansConstraint[Columbian] : x[Columbian,Robust] + x[Columbian,Light] ≤ 550.0\n",
      " beansConstraint[Brazilian] : x[Brazilian,Robust] + x[Brazilian,Light] ≤ 450.0\n",
      " beansConstraint[Sumatran] : x[Sumatran,Robust] + x[Sumatran,Light] ≤ 650.0\n",
      " x[Columbian,Robust] ≥ 0.0\n",
      " x[Brazilian,Robust] ≥ 0.0\n",
      " x[Sumatran,Robust] ≥ 0.0\n",
      " x[Columbian,Light] ≥ 0.0\n",
      " x[Brazilian,Light] ≥ 0.0\n",
      " x[Sumatran,Light] ≥ 0.0\n"
     ]
    }
   ],
   "source": [
    "using JuMP\n",
    "#Import HiGHS solver\n",
    "using HiGHS\n",
    "\n",
    "#Create a JuMP model named picframe1 that will be solved using the HiGHS solver\n",
    "coffeeblend = Model(HiGHS.Optimizer);\n",
    "types = [:Columbian,:Brazilian,:Sumatran];\n",
    "blends = [:Robust, :Light];\n",
    "\n",
    "beansAviliable = Dict(:Columbian=> 550,:Brazilian=>450,:Sumatran=>650);\n",
    "beansPrice=Dict(:Columbian=> 1,:Brazilian=>0.85,:Sumatran=>1.55);\n",
    "coffPrice=Dict(:Robust=>4.25,:Light=>3.95)\n",
    "\n",
    "#inf represent lowerbound; sup represent upper bound; setting upper lower bound for beans in each coffee\n",
    "@variable(coffeeblend,x[types, blends]>=0);\n",
    "@constraint(coffeeblend, RSInf, x[:Sumatran,:Robust] >= 0.6*sum(x[i,:Robust] for i in types));\n",
    "@constraint(coffeeblend, RSSup, x[:Sumatran,:Robust] <= 0.75*sum(x[i,:Robust] for i in types));\n",
    "@constraint(coffeeblend, RCInf, x[:Columbian,:Robust] >= 0.1*sum(x[i,:Robust] for i in types));\n",
    "@constraint(coffeeblend, LBInf, x[:Brazilian,:Light] >= 0.5*sum(x[i,:Light] for i in types));\n",
    "@constraint(coffeeblend, LBSup, x[:Brazilian,:Light] <= 0.6*sum(x[i,:Light] for i in types));\n",
    "@constraint(coffeeblend, LSSup, x[:Sumatran,:Light] <= 0.6*sum(x[i,:Light] for i in types));\n",
    "\n",
    "#setting bound for beans available\n",
    "@constraint(coffeeblend, beansConstraint[i in types], sum(x[i,j] for j in blends)<=beansAviliable[i]);\n",
    "\n",
    "#objective function with revenue-cost\n",
    "@objective(coffeeblend,Max, sum(x[i,j] for i in types for j in blends)*coffPrice[j]-\n",
    "sum(x[i,j] for i in types for j in blends)*beansPrice[i]);\n",
    "\n",
    "print(coffeeblend);\n"
   ]
  },
  {
   "cell_type": "code",
   "execution_count": 42,
   "metadata": {},
   "outputs": [
    {
     "name": "stdout",
     "output_type": "stream",
     "text": [
      "Presolving model\n",
      "9 rows, 6 cols, 24 nonzeros\n",
      "9 rows, 6 cols, 24 nonzeros\n",
      "Presolve : Reductions: rows 9(-0); columns 6(-0); elements 24(-0)\n",
      "Solving the presolved LP\n",
      "Using EKK dual simplex solver - serial\n",
      "  Iteration        Objective     Infeasibilities num(sum)\n",
      "          0    -4.4549962997e+01 Ph1: 8(11.475); Du: 6(44.55) 0s\n",
      "          5    -4.9025000000e+03 Pr: 0(0) 0s\n",
      "Solving the original LP from the solution after postsolve\n",
      "Model   status      : Optimal\n",
      "Simplex   iterations: 5\n",
      "Objective value     :  4.9025000000e+03\n",
      "HiGHS run time      :          0.00\n",
      "objective_value(coffeeblend) = 4902.5\n",
      "value.(x) = 2-dimensional DenseAxisArray{Float64,2,...} with index sets:\n",
      "    Dimension 1, [:Columbian, :Brazilian, :Sumatran]\n",
      "    Dimension 2, [:Robust, :Light]\n",
      "And data, a 3×2 Matrix{Float64}:\n",
      " 323.33333333333337  226.66666666666663\n",
      " 109.99999999999996  339.9999999999999\n",
      " 650.0                 0.0\n"
     ]
    }
   ],
   "source": [
    "optimize!(coffeeblend);\n",
    "@show objective_value(coffeeblend);\n",
    "@show value.(x);\n"
   ]
  }
 ],
 "metadata": {
  "kernelspec": {
   "display_name": "Julia 1.8.2",
   "language": "julia",
   "name": "julia-1.8"
  },
  "language_info": {
   "file_extension": ".jl",
   "mimetype": "application/julia",
   "name": "julia",
   "version": "1.8.2"
  },
  "orig_nbformat": 4
 },
 "nbformat": 4,
 "nbformat_minor": 2
}
