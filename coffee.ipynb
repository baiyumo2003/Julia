{
 "cells": [
  {
   "cell_type": "code",
   "execution_count": null,
   "metadata": {},
   "outputs": [],
   "source": [
    "using JuMP\n",
    "#Import HiGHS solver\n",
    "using HiGHS\n",
    "\n",
    "#Create a JuMP model named picframe1 that will be solved using the HiGHS solver\n",
    "coffeeblend = Model(HiGHS.Optimizer);\n",
    "types = [:Columbian,:Brazilian,:Sumatran];\n",
    "blends = [:Robust, :Light];\n",
    "\n",
    "beansAviliable = Dict(:Columbian=> 550,:Brazilian=>450,:Sumatran=>650);\n",
    "beansPrice=Dict(:Columbian=> 1,:Brazilian=>0.85,:Sumatran=>1.55);\n",
    "coffPrice=Dict(:Robust=>4.25,:Light=>3.95)\n",
    "\n",
    "#inf represent lowerbound; sup represent upper bound; setting upper lower bound for beans in each coffee\n",
    "@variable(coffeeblend,x[types, blends]>=0);\n",
    "@constraint(coffeeblend, RSInf, x[:Sumatran,:Robust] >= 0.6*sum(x[i,:Robust] for i in types));\n",
    "@constraint(coffeeblend, RSSup, x[:Sumatran,:Robust] <= 0.75*sum(x[i,:Robust] for i in types));\n",
    "@constraint(coffeeblend, RCInf, x[:Columbian,:Robust] >= 0.1*sum(x[i,:Robust] for i in types));\n",
    "@constraint(coffeeblend, LBInf, x[:Brazilian,:Light] >= 0.5*sum(x[i,:Light] for i in types));\n",
    "@constraint(coffeeblend, LBSup, x[:Brazilian,:Light] <= 0.6*sum(x[i,:Light] for i in types));\n",
    "@constraint(coffeeblend, LSSup, x[:Sumatran,:Light] <= 0.6*sum(x[i,:Light] for i in types));\n",
    "#setting bound for beans available\n",
    "@constraint(coffeeblend, beansConstraint[i in types], sum(x[i,j] for j in blends)<=beansAviliable[i]);\n",
    "\n",
    "#objective function with revenue-cost\n",
    "@objective(coffeeblend,Max, sum(x[i,j] for i in types for j in blends)*coffPrice[j]-\n",
    "sum(x[i,j] for i in types for j in blends)*beansPrice[i]);\n",
    "\n",
    "print(coffeeblend);\n"
   ]
  },
  {
   "cell_type": "code",
   "execution_count": null,
   "metadata": {},
   "outputs": [],
   "source": [
    "optimize!(coffeeblend);\n",
    "@show solution_summary(coffeeblend);\n",
    "@show objective_value(coffeeblend)"
   ]
  }
 ],
 "metadata": {
  "kernelspec": {
   "display_name": "Julia 1.8.2",
   "language": "julia",
   "name": "julia-1.8"
  },
  "language_info": {
   "file_extension": ".jl",
   "mimetype": "application/julia",
   "name": "julia",
   "version": "1.8.2"
  },
  "orig_nbformat": 4
 },
 "nbformat": 4,
 "nbformat_minor": 2
}
